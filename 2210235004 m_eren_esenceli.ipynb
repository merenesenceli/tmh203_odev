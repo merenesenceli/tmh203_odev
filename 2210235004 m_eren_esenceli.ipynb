{
 "cells": [
  {
   "cell_type": "markdown",
   "id": "7423f096",
   "metadata": {},
   "source": [
    "# Paralelkenar Alan Formülü"
   ]
  },
  {
   "cell_type": "code",
   "execution_count": 1,
   "id": "0eb39d29",
   "metadata": {},
   "outputs": [
    {
     "name": "stdout",
     "output_type": "stream",
     "text": [
      "Taban uzunluğu giriniz : 10\n",
      "Yükseklik değeri giriniz : 5\n",
      "Paralelkenarımızın alanı : 50\n"
     ]
    }
   ],
   "source": [
    "taban=int(input(\"Taban uzunluğu giriniz : \"))\n",
    "yükseklik=int(input(\"Yükseklik değeri giriniz : \"))\n",
    "alan=taban*yükseklik\n",
    "print(\"Paralelkenarımızın alanı :\",alan)"
   ]
  },
  {
   "cell_type": "markdown",
   "id": "9ceb6da3",
   "metadata": {},
   "source": [
    "# Yamuk Alan Formülü "
   ]
  },
  {
   "cell_type": "code",
   "execution_count": 2,
   "id": "7061c930",
   "metadata": {},
   "outputs": [
    {
     "name": "stdout",
     "output_type": "stream",
     "text": [
      "Tavan değeri giriniz : 10\n",
      "Taban değeri giriniz : 15\n",
      "Yükseklik değeri giriniz : 5\n",
      "Yamuğumuzun alanı : 62.5\n"
     ]
    }
   ],
   "source": [
    "tavan=int(input(\"Tavan değeri giriniz : \"))\n",
    "taban=int(input(\"Taban değeri giriniz : \"))\n",
    "yükseklik=int(input(\"Yükseklik değeri giriniz : \"))\n",
    "alan=(tavan+taban)*yükseklik*(1/2)\n",
    "print(\"Yamuğumuzun alanı :\",alan)"
   ]
  },
  {
   "cell_type": "markdown",
   "id": "31f148cf",
   "metadata": {},
   "source": [
    "# Kesik Koni Yüzey Alanı Formülü"
   ]
  },
  {
   "cell_type": "code",
   "execution_count": 3,
   "id": "30e3eeda",
   "metadata": {},
   "outputs": [
    {
     "name": "stdout",
     "output_type": "stream",
     "text": [
      "Tavan yarıçapı giriniz : 10\n",
      "Taban yarıçapı giriniz : 15\n",
      "Yan kenar değeri giriniz : 17\n",
      "Kesik konimizin yüzey alanı : 1334.5\n"
     ]
    }
   ],
   "source": [
    "r1=int(input(\"Tavan yarıçapı giriniz : \"))\n",
    "r2=int(input(\"Taban yarıçapı giriniz : \"))\n",
    "yan_kenar=int(input(\"Yan kenar değeri giriniz : \"))\n",
    "pi=3.14\n",
    "alan=(r1+r2)*yan_kenar*pi\n",
    "print(\"Kesik konimizin yüzey alanı :\",alan)"
   ]
  },
  {
   "cell_type": "code",
   "execution_count": null,
   "id": "62252038",
   "metadata": {},
   "outputs": [],
   "source": []
  }
 ],
 "metadata": {
  "kernelspec": {
   "display_name": "Python 3 (ipykernel)",
   "language": "python",
   "name": "python3"
  },
  "language_info": {
   "codemirror_mode": {
    "name": "ipython",
    "version": 3
   },
   "file_extension": ".py",
   "mimetype": "text/x-python",
   "name": "python",
   "nbconvert_exporter": "python",
   "pygments_lexer": "ipython3",
   "version": "3.11.5"
  }
 },
 "nbformat": 4,
 "nbformat_minor": 5
}
